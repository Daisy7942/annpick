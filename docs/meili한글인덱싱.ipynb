{
  "cells": [
    {
      "cell_type": "code",
      "execution_count": null,
      "metadata": {
        "colab": {
          "base_uri": "https://localhost:8080/"
        },
        "id": "XhAuX6oFIAjC",
        "outputId": "486ced16-23a3-46ba-873e-c7033f96e202"
      },
      "outputs": [
        {
          "name": "stdout",
          "output_type": "stream",
          "text": [
            "Requirement already satisfied: mysql-connector-python in /usr/local/lib/python3.10/dist-packages (9.0.0)\n"
          ]
        }
      ],
      "source": [
        "pip install mysql-connector-python"
      ]
    },
    {
      "cell_type": "code",
      "execution_count": null,
      "metadata": {
        "colab": {
          "base_uri": "https://localhost:8080/"
        },
        "id": "YJPZPipiH-FL",
        "outputId": "dfad88b7-1d4b-4eb5-ef9c-056ec506eb99"
      },
      "outputs": [
        {
          "name": "stdout",
          "output_type": "stream",
          "text": [
            "Connection to MySQL DB successful\n",
            "데이터가 anime_data.json에 저장되었습니다.\n"
          ]
        }
      ],
      "source": [
        "import mysql.connector\n",
        "from mysql.connector import Error\n",
        "import json\n",
        "\n",
        "# MySQL 연결 설정 함수\n",
        "def create_connection(host_name, user_name, user_password, db_name):\n",
        "    connection = None\n",
        "    try:\n",
        "        connection = mysql.connector.connect(\n",
        "            host=host_name,\n",
        "            user=user_name,\n",
        "            passwd=user_password,\n",
        "            database=db_name\n",
        "        )\n",
        "        print(\"Connection to MySQL DB successful\")\n",
        "    except Error as e:\n",
        "        print(f\"The error '{e}' occurred\")\n",
        "\n",
        "    return connection\n",
        "\n",
        "# 데이터 가져오기 함수\n",
        "def fetch_data(connection, query):\n",
        "    cursor = connection.cursor(dictionary=True)\n",
        "    result = None\n",
        "    try:\n",
        "        cursor.execute(query)\n",
        "        result = cursor.fetchall()\n",
        "        return result\n",
        "    except Error as e:\n",
        "        print(f\"The error '{e}' occurred\")\n",
        "\n",
        "# MySQL 연결\n",
        "connection = create_connection(\"RDS주소\", \"username\", \"password\", \"table\")\n",
        "\n",
        "# SQL 쿼리 수정: AnilistAnime 테이블에서 한글 제목과 설명도 가져옴\n",
        "query = \"\"\"\n",
        "SELECT a.anime_id, a.anime_title, a.anime_title_ko, c.genre_name, e.tag_name, f.popularity\n",
        "FROM Anime a\n",
        "JOIN AniGenre b ON a.anime_id = b.anime_id\n",
        "JOIN Genre c ON b.genre_id = c.genre_id\n",
        "JOIN AniTag d ON a.anime_id = d.anime_id\n",
        "JOIN Tag e ON d.tag_id = e.tag_id\n",
        "JOIN AnilistAnime f ON a.anime_id = f.anime_id;\n",
        "\"\"\"\n",
        "datas = fetch_data(connection, query)\n",
        "\n",
        "# 결과를 저장할 딕셔너리 초기화\n",
        "result_dict = {}\n",
        "\n",
        "# 데이터를 딕셔너리에 저장\n",
        "for row in datas:\n",
        "    anime_id = row['anime_id']\n",
        "    anime_title = row['anime_title']\n",
        "    anime_title_ko = row['anime_title_ko']\n",
        "    genre_name = row['genre_name']\n",
        "    tag_name = row['tag_name']\n",
        "    popularity = row['popularity']\n",
        "\n",
        "    if anime_id not in result_dict:\n",
        "        result_dict[anime_id] = {\n",
        "            'id': anime_id,\n",
        "            'anime_title': anime_title,\n",
        "            'anime_title_ko': anime_title_ko,\n",
        "            'genre': [genre_name],\n",
        "            'tag': [tag_name],\n",
        "            'popularity': popularity\n",
        "        }\n",
        "    else:\n",
        "        if genre_name not in result_dict[anime_id]['genre']:\n",
        "            result_dict[anime_id]['genre'].append(genre_name)\n",
        "        if tag_name not in result_dict[anime_id]['tag']:\n",
        "            result_dict[anime_id]['tag'].append(tag_name)\n",
        "\n",
        "# 딕셔너리를 리스트로 변환\n",
        "result_list = list(result_dict.values())\n",
        "\n",
        "# 결과를 JSON 파일로 저장\n",
        "file_path = \"anime_data.json\"\n",
        "with open(file_path, 'w', encoding='utf-8') as json_file:\n",
        "    json.dump(result_list, json_file, ensure_ascii=False, indent=4)\n",
        "\n",
        "print(f\"데이터가 {file_path}에 저장되었습니다.\")"
      ]
    }
  ],
  "metadata": {
    "colab": {
      "provenance": []
    },
    "kernelspec": {
      "display_name": "Python 3",
      "name": "python3"
    },
    "language_info": {
      "name": "python"
    }
  },
  "nbformat": 4,
  "nbformat_minor": 0
}
