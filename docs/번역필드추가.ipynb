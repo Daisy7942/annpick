{
  "cells": [
    {
      "cell_type": "code",
      "execution_count": null,
      "metadata": {
        "colab": {
          "base_uri": "https://localhost:8080/"
        },
        "id": "EegmGHF-r-xP",
        "outputId": "fb7c6789-38d8-4f2a-ed7b-5644bd83edeb"
      },
      "outputs": [
        {
          "name": "stdout",
          "output_type": "stream",
          "text": [
            "Requirement already satisfied: mysql-connector-python in /usr/local/lib/python3.10/dist-packages (9.0.0)\n"
          ]
        }
      ],
      "source": [
        "!pip install mysql-connector-python"
      ]
    },
    {
      "cell_type": "code",
      "execution_count": null,
      "metadata": {
        "colab": {
          "base_uri": "https://localhost:8080/",
          "height": 397
        },
        "id": "DY0HvXq0s-XI",
        "outputId": "1f058028-4990-4e0e-bf31-fdc2afa1ea04"
      },
      "outputs": [
        {
          "ename": "ValueError",
          "evalue": "Excel file format cannot be determined, you must specify an engine manually.",
          "output_type": "error",
          "traceback": [
            "\u001b[0;31m---------------------------------------------------------------------------\u001b[0m",
            "\u001b[0;31mValueError\u001b[0m                                Traceback (most recent call last)",
            "\u001b[0;32m<ipython-input-3-b9ee48d1fffc>\u001b[0m in \u001b[0;36m<cell line: 19>\u001b[0;34m()\u001b[0m\n\u001b[1;32m     17\u001b[0m \u001b[0;34m\u001b[0m\u001b[0m\n\u001b[1;32m     18\u001b[0m \u001b[0;31m# 엑셀 파일 읽기\u001b[0m\u001b[0;34m\u001b[0m\u001b[0;34m\u001b[0m\u001b[0m\n\u001b[0;32m---> 19\u001b[0;31m \u001b[0mexcel_data\u001b[0m \u001b[0;34m=\u001b[0m \u001b[0mpd\u001b[0m\u001b[0;34m.\u001b[0m\u001b[0mread_excel\u001b[0m\u001b[0;34m(\u001b[0m\u001b[0mfile_path\u001b[0m\u001b[0;34m)\u001b[0m\u001b[0;34m\u001b[0m\u001b[0;34m\u001b[0m\u001b[0m\n\u001b[0m\u001b[1;32m     20\u001b[0m \u001b[0;34m\u001b[0m\u001b[0m\n\u001b[1;32m     21\u001b[0m \u001b[0;31m# # 2행부터 3473행까지 추출\u001b[0m\u001b[0;34m\u001b[0m\u001b[0;34m\u001b[0m\u001b[0m\n",
            "\u001b[0;32m/usr/local/lib/python3.10/dist-packages/pandas/io/excel/_base.py\u001b[0m in \u001b[0;36mread_excel\u001b[0;34m(io, sheet_name, header, names, index_col, usecols, dtype, engine, converters, true_values, false_values, skiprows, nrows, na_values, keep_default_na, na_filter, verbose, parse_dates, date_parser, date_format, thousands, decimal, comment, skipfooter, storage_options, dtype_backend, engine_kwargs)\u001b[0m\n\u001b[1;32m    502\u001b[0m     \u001b[0;32mif\u001b[0m \u001b[0;32mnot\u001b[0m \u001b[0misinstance\u001b[0m\u001b[0;34m(\u001b[0m\u001b[0mio\u001b[0m\u001b[0;34m,\u001b[0m \u001b[0mExcelFile\u001b[0m\u001b[0;34m)\u001b[0m\u001b[0;34m:\u001b[0m\u001b[0;34m\u001b[0m\u001b[0;34m\u001b[0m\u001b[0m\n\u001b[1;32m    503\u001b[0m         \u001b[0mshould_close\u001b[0m \u001b[0;34m=\u001b[0m \u001b[0;32mTrue\u001b[0m\u001b[0;34m\u001b[0m\u001b[0;34m\u001b[0m\u001b[0m\n\u001b[0;32m--> 504\u001b[0;31m         io = ExcelFile(\n\u001b[0m\u001b[1;32m    505\u001b[0m             \u001b[0mio\u001b[0m\u001b[0;34m,\u001b[0m\u001b[0;34m\u001b[0m\u001b[0;34m\u001b[0m\u001b[0m\n\u001b[1;32m    506\u001b[0m             \u001b[0mstorage_options\u001b[0m\u001b[0;34m=\u001b[0m\u001b[0mstorage_options\u001b[0m\u001b[0;34m,\u001b[0m\u001b[0;34m\u001b[0m\u001b[0;34m\u001b[0m\u001b[0m\n",
            "\u001b[0;32m/usr/local/lib/python3.10/dist-packages/pandas/io/excel/_base.py\u001b[0m in \u001b[0;36m__init__\u001b[0;34m(self, path_or_buffer, engine, storage_options, engine_kwargs)\u001b[0m\n\u001b[1;32m   1565\u001b[0m                 )\n\u001b[1;32m   1566\u001b[0m                 \u001b[0;32mif\u001b[0m \u001b[0mext\u001b[0m \u001b[0;32mis\u001b[0m \u001b[0;32mNone\u001b[0m\u001b[0;34m:\u001b[0m\u001b[0;34m\u001b[0m\u001b[0;34m\u001b[0m\u001b[0m\n\u001b[0;32m-> 1567\u001b[0;31m                     raise ValueError(\n\u001b[0m\u001b[1;32m   1568\u001b[0m                         \u001b[0;34m\"Excel file format cannot be determined, you must specify \"\u001b[0m\u001b[0;34m\u001b[0m\u001b[0;34m\u001b[0m\u001b[0m\n\u001b[1;32m   1569\u001b[0m                         \u001b[0;34m\"an engine manually.\"\u001b[0m\u001b[0;34m\u001b[0m\u001b[0;34m\u001b[0m\u001b[0m\n",
            "\u001b[0;31mValueError\u001b[0m: Excel file format cannot be determined, you must specify an engine manually."
          ]
        }
      ],
      "source": [
        "import mysql.connector\n",
        "import pandas as pd\n",
        "\n",
        "# MySQL 데이터베이스 연결 설정\n",
        "connection = mysql.connector.connect(\n",
        "    host=\"RDS주소\",\n",
        "    user=\"username\",\n",
        "    password=\"password\",\n",
        "    database=\"table\"\n",
        ")\n",
        "\n",
        "cursor = connection.cursor()\n",
        "\n",
        "# # 엑셀 파일 경로\n",
        "# file_path = '/content/작업하는 곳.xlsx'\n",
        "file_path = '/content/null3_완료.csv'\n",
        "\n",
        "# 엑셀 파일 읽기\n",
        "excel_data = pd.read_excel(file_path)\n",
        "\n",
        "# # 2행부터 3473행까지 추출\n",
        "# extracted_data = excel_data.iloc[1:3473]\n",
        "extracted_data = excel_data.iloc[1:60]\n",
        "\n",
        "# NaN 값을 None으로 변환 (MySQL에서 처리 가능)\n",
        "extracted_data = extracted_data.where(pd.notnull(extracted_data), None)\n",
        "\n",
        "# 필요한 컬럼만 추출하여 데이터 리스트로 변환\n",
        "# data_to_insert = extracted_data[['anime_title', 'anime_title_kr', 'description', 'description_kr']].values.tolist()\n",
        "data_to_insert = extracted_data[['anime_title', 'anime_title_ko']].values.tolist()\n",
        "\n",
        "# 데이터 삽입 쿼리\n",
        "# insert_query = \"\"\"\n",
        "# UPDATE Anime\n",
        "# SET anime_title_ko = %s, description_ko = %s\n",
        "# WHERE anime_title = %s;\n",
        "# \"\"\"\n",
        "insert_query = \"\"\"\n",
        "UPDATE Anime\n",
        "SET anime_title_ko = %s\n",
        "WHERE anime_title = %s;\n",
        "\"\"\"\n",
        "\n",
        "# 데이터를 MySQL에 삽입 (anime_title이 일치하는 경우에만 title_ko와 description_ko 업데이트)\n",
        "# for row in data_to_insert:\n",
        "#     anime_title, anime_title_ko, description, description_ko = row\n",
        "#     cursor.execute(insert_query, (anime_title_ko, description_ko, anime_title))\n",
        "for row in data_to_insert:\n",
        "    anime_title, anime_title_ko = row\n",
        "    cursor.execute(insert_query, (anime_title_ko, anime_title))\n",
        "\n",
        "# 변경 사항 커밋\n",
        "connection.commit()\n",
        "\n",
        "# 연결 종료\n",
        "cursor.close()\n",
        "connection.close()\n",
        "\n",
        "print(\"데이터 삽입 완료.\")"
      ]
    }
  ],
  "metadata": {
    "colab": {
      "provenance": []
    },
    "kernelspec": {
      "display_name": "Python 3",
      "name": "python3"
    },
    "language_info": {
      "name": "python"
    }
  },
  "nbformat": 4,
  "nbformat_minor": 0
}
